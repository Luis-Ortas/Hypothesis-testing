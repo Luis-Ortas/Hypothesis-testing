{
 "cells": [
  {
   "cell_type": "markdown",
   "id": "3572bbfd",
   "metadata": {},
   "source": [
    "# <font color='#d50283'>IT Academy - Data Science </font>\n",
    "## Sprint 7 Tarea 1 - Hypothesis Testing\n",
    "### Luis Ortas"
   ]
  },
  {
   "cell_type": "markdown",
   "id": "e15b95f6",
   "metadata": {},
   "source": [
    "***\n",
    "## Exercici 1\n",
    "\n",
    "Agafa un conjunt de dades de tema esportiu que t'agradi i selecciona un atribut del conjunt de dades. Calcula el p-valor i digues si rebutja la hipòtesi nul·la"
   ]
  },
  {
   "cell_type": "markdown",
   "id": "b88bb7af",
   "metadata": {},
   "source": [
    "Utilizaremos el dataset del sprint 5.Utilizaremos el datashhet utilizado en el Sprint 5. Que incluye los atletas y los resultados en los juegos olimpicos en los últimos 120 años"
   ]
  },
  {
   "cell_type": "code",
   "execution_count": 1,
   "id": "5dc56591",
   "metadata": {},
   "outputs": [],
   "source": [
    "import pandas as pd\n",
    "import numpy as np\n",
    "import matplotlib.pyplot as plt\n",
    "import seaborn as sns\n",
    "%matplotlib inline\n",
    "\n",
    "from scipy.stats import ttest_1samp, ttest_ind, f_oneway\n",
    "from statsmodels.stats.multicomp import pairwise_tukeyhsd"
   ]
  },
  {
   "cell_type": "code",
   "execution_count": 2,
   "id": "075c7d09",
   "metadata": {},
   "outputs": [
    {
     "data": {
      "text/html": [
       "<div>\n",
       "<style scoped>\n",
       "    .dataframe tbody tr th:only-of-type {\n",
       "        vertical-align: middle;\n",
       "    }\n",
       "\n",
       "    .dataframe tbody tr th {\n",
       "        vertical-align: top;\n",
       "    }\n",
       "\n",
       "    .dataframe thead th {\n",
       "        text-align: right;\n",
       "    }\n",
       "</style>\n",
       "<table border=\"1\" class=\"dataframe\">\n",
       "  <thead>\n",
       "    <tr style=\"text-align: right;\">\n",
       "      <th></th>\n",
       "      <th>Name</th>\n",
       "      <th>Sex</th>\n",
       "      <th>Age</th>\n",
       "      <th>Height</th>\n",
       "      <th>Weight</th>\n",
       "      <th>Team</th>\n",
       "      <th>NOC</th>\n",
       "      <th>Games</th>\n",
       "      <th>Year</th>\n",
       "      <th>Season</th>\n",
       "      <th>City</th>\n",
       "      <th>Sport</th>\n",
       "      <th>Event</th>\n",
       "      <th>Medal</th>\n",
       "    </tr>\n",
       "    <tr>\n",
       "      <th>ID</th>\n",
       "      <th></th>\n",
       "      <th></th>\n",
       "      <th></th>\n",
       "      <th></th>\n",
       "      <th></th>\n",
       "      <th></th>\n",
       "      <th></th>\n",
       "      <th></th>\n",
       "      <th></th>\n",
       "      <th></th>\n",
       "      <th></th>\n",
       "      <th></th>\n",
       "      <th></th>\n",
       "      <th></th>\n",
       "    </tr>\n",
       "  </thead>\n",
       "  <tbody>\n",
       "    <tr>\n",
       "      <th>22373</th>\n",
       "      <td>Stephen \"Steve\" Colgate</td>\n",
       "      <td>M</td>\n",
       "      <td>33</td>\n",
       "      <td>180.0</td>\n",
       "      <td>70.0</td>\n",
       "      <td>United States</td>\n",
       "      <td>USA</td>\n",
       "      <td>1968 Summer</td>\n",
       "      <td>1968</td>\n",
       "      <td>Summer</td>\n",
       "      <td>Mexico City</td>\n",
       "      <td>Sailing</td>\n",
       "      <td>Sailing Mixed 5.5 metres</td>\n",
       "      <td>NaN</td>\n",
       "    </tr>\n",
       "    <tr>\n",
       "      <th>82182</th>\n",
       "      <td>Niccol Giovanni Pietro Mornati</td>\n",
       "      <td>M</td>\n",
       "      <td>27</td>\n",
       "      <td>197.0</td>\n",
       "      <td>97.0</td>\n",
       "      <td>Italy</td>\n",
       "      <td>ITA</td>\n",
       "      <td>2008 Summer</td>\n",
       "      <td>2008</td>\n",
       "      <td>Summer</td>\n",
       "      <td>Beijing</td>\n",
       "      <td>Rowing</td>\n",
       "      <td>Rowing Men's Coxless Fours</td>\n",
       "      <td>NaN</td>\n",
       "    </tr>\n",
       "    <tr>\n",
       "      <th>135352</th>\n",
       "      <td>Attila Zubor</td>\n",
       "      <td>M</td>\n",
       "      <td>29</td>\n",
       "      <td>191.0</td>\n",
       "      <td>92.0</td>\n",
       "      <td>Hungary</td>\n",
       "      <td>HUN</td>\n",
       "      <td>2004 Summer</td>\n",
       "      <td>2004</td>\n",
       "      <td>Summer</td>\n",
       "      <td>Athina</td>\n",
       "      <td>Swimming</td>\n",
       "      <td>Swimming Men's 4 x 100 metres Medley Relay</td>\n",
       "      <td>NaN</td>\n",
       "    </tr>\n",
       "    <tr>\n",
       "      <th>19305</th>\n",
       "      <td>Paola Celli</td>\n",
       "      <td>F</td>\n",
       "      <td>24</td>\n",
       "      <td>168.0</td>\n",
       "      <td>58.0</td>\n",
       "      <td>Italy</td>\n",
       "      <td>ITA</td>\n",
       "      <td>1992 Summer</td>\n",
       "      <td>1992</td>\n",
       "      <td>Summer</td>\n",
       "      <td>Barcelona</td>\n",
       "      <td>Synchronized Swimming</td>\n",
       "      <td>Synchronized Swimming Women's Solo</td>\n",
       "      <td>NaN</td>\n",
       "    </tr>\n",
       "    <tr>\n",
       "      <th>119010</th>\n",
       "      <td>Elbrus Soslanovych Tedieiev</td>\n",
       "      <td>M</td>\n",
       "      <td>21</td>\n",
       "      <td>167.0</td>\n",
       "      <td>66.0</td>\n",
       "      <td>Ukraine</td>\n",
       "      <td>UKR</td>\n",
       "      <td>1996 Summer</td>\n",
       "      <td>1996</td>\n",
       "      <td>Summer</td>\n",
       "      <td>Atlanta</td>\n",
       "      <td>Wrestling</td>\n",
       "      <td>Wrestling Men's Featherweight, Freestyle</td>\n",
       "      <td>Bronze</td>\n",
       "    </tr>\n",
       "    <tr>\n",
       "      <th>81385</th>\n",
       "      <td>Andr Monnier</td>\n",
       "      <td>M</td>\n",
       "      <td>25</td>\n",
       "      <td>NaN</td>\n",
       "      <td>NaN</td>\n",
       "      <td>France</td>\n",
       "      <td>FRA</td>\n",
       "      <td>1952 Winter</td>\n",
       "      <td>1952</td>\n",
       "      <td>Winter</td>\n",
       "      <td>Oslo</td>\n",
       "      <td>Ski Jumping</td>\n",
       "      <td>Ski Jumping Men's Normal Hill, Individual</td>\n",
       "      <td>NaN</td>\n",
       "    </tr>\n",
       "    <tr>\n",
       "      <th>45703</th>\n",
       "      <td>Ernst Henry Theodor Hansen</td>\n",
       "      <td>M</td>\n",
       "      <td>39</td>\n",
       "      <td>NaN</td>\n",
       "      <td>NaN</td>\n",
       "      <td>Denmark</td>\n",
       "      <td>DEN</td>\n",
       "      <td>1932 Summer</td>\n",
       "      <td>1932</td>\n",
       "      <td>Summer</td>\n",
       "      <td>Los Angeles</td>\n",
       "      <td>Art Competitions</td>\n",
       "      <td>Art Competitions Mixed Painting, Unknown Event</td>\n",
       "      <td>NaN</td>\n",
       "    </tr>\n",
       "    <tr>\n",
       "      <th>37557</th>\n",
       "      <td>Masaya Fukuda</td>\n",
       "      <td>M</td>\n",
       "      <td>22</td>\n",
       "      <td>176.0</td>\n",
       "      <td>61.0</td>\n",
       "      <td>Japan</td>\n",
       "      <td>JPN</td>\n",
       "      <td>1968 Summer</td>\n",
       "      <td>1968</td>\n",
       "      <td>Summer</td>\n",
       "      <td>Mexico City</td>\n",
       "      <td>Fencing</td>\n",
       "      <td>Fencing Men's Foil, Team</td>\n",
       "      <td>NaN</td>\n",
       "    </tr>\n",
       "    <tr>\n",
       "      <th>43292</th>\n",
       "      <td>Bernard Gruener</td>\n",
       "      <td>M</td>\n",
       "      <td>19</td>\n",
       "      <td>178.0</td>\n",
       "      <td>74.0</td>\n",
       "      <td>France</td>\n",
       "      <td>FRA</td>\n",
       "      <td>1968 Summer</td>\n",
       "      <td>1968</td>\n",
       "      <td>Summer</td>\n",
       "      <td>Mexico City</td>\n",
       "      <td>Swimming</td>\n",
       "      <td>Swimming Men's 100 metres Freestyle</td>\n",
       "      <td>NaN</td>\n",
       "    </tr>\n",
       "    <tr>\n",
       "      <th>82526</th>\n",
       "      <td>Morris Kenneth Mott</td>\n",
       "      <td>M</td>\n",
       "      <td>21</td>\n",
       "      <td>178.0</td>\n",
       "      <td>75.0</td>\n",
       "      <td>Canada</td>\n",
       "      <td>CAN</td>\n",
       "      <td>1968 Winter</td>\n",
       "      <td>1968</td>\n",
       "      <td>Winter</td>\n",
       "      <td>Grenoble</td>\n",
       "      <td>Ice Hockey</td>\n",
       "      <td>Ice Hockey Men's Ice Hockey</td>\n",
       "      <td>Bronze</td>\n",
       "    </tr>\n",
       "  </tbody>\n",
       "</table>\n",
       "</div>"
      ],
      "text/plain": [
       "                                  Name Sex  Age  Height  Weight  \\\n",
       "ID                                                                \n",
       "22373          Stephen \"Steve\" Colgate   M   33   180.0    70.0   \n",
       "82182   Niccol Giovanni Pietro Mornati   M   27   197.0    97.0   \n",
       "135352                    Attila Zubor   M   29   191.0    92.0   \n",
       "19305                      Paola Celli   F   24   168.0    58.0   \n",
       "119010     Elbrus Soslanovych Tedieiev   M   21   167.0    66.0   \n",
       "81385                     Andr Monnier   M   25     NaN     NaN   \n",
       "45703       Ernst Henry Theodor Hansen   M   39     NaN     NaN   \n",
       "37557                    Masaya Fukuda   M   22   176.0    61.0   \n",
       "43292                  Bernard Gruener   M   19   178.0    74.0   \n",
       "82526              Morris Kenneth Mott   M   21   178.0    75.0   \n",
       "\n",
       "                 Team  NOC        Games  Year  Season         City  \\\n",
       "ID                                                                   \n",
       "22373   United States  USA  1968 Summer  1968  Summer  Mexico City   \n",
       "82182           Italy  ITA  2008 Summer  2008  Summer      Beijing   \n",
       "135352        Hungary  HUN  2004 Summer  2004  Summer       Athina   \n",
       "19305           Italy  ITA  1992 Summer  1992  Summer    Barcelona   \n",
       "119010        Ukraine  UKR  1996 Summer  1996  Summer      Atlanta   \n",
       "81385          France  FRA  1952 Winter  1952  Winter         Oslo   \n",
       "45703         Denmark  DEN  1932 Summer  1932  Summer  Los Angeles   \n",
       "37557           Japan  JPN  1968 Summer  1968  Summer  Mexico City   \n",
       "43292          France  FRA  1968 Summer  1968  Summer  Mexico City   \n",
       "82526          Canada  CAN  1968 Winter  1968  Winter     Grenoble   \n",
       "\n",
       "                        Sport                                           Event  \\\n",
       "ID                                                                              \n",
       "22373                 Sailing                        Sailing Mixed 5.5 metres   \n",
       "82182                  Rowing                      Rowing Men's Coxless Fours   \n",
       "135352               Swimming      Swimming Men's 4 x 100 metres Medley Relay   \n",
       "19305   Synchronized Swimming              Synchronized Swimming Women's Solo   \n",
       "119010              Wrestling        Wrestling Men's Featherweight, Freestyle   \n",
       "81385             Ski Jumping       Ski Jumping Men's Normal Hill, Individual   \n",
       "45703        Art Competitions  Art Competitions Mixed Painting, Unknown Event   \n",
       "37557                 Fencing                        Fencing Men's Foil, Team   \n",
       "43292                Swimming             Swimming Men's 100 metres Freestyle   \n",
       "82526              Ice Hockey                     Ice Hockey Men's Ice Hockey   \n",
       "\n",
       "         Medal  \n",
       "ID              \n",
       "22373      NaN  \n",
       "82182      NaN  \n",
       "135352     NaN  \n",
       "19305      NaN  \n",
       "119010  Bronze  \n",
       "81385      NaN  \n",
       "45703      NaN  \n",
       "37557      NaN  \n",
       "43292      NaN  \n",
       "82526   Bronze  "
      ]
     },
     "execution_count": 2,
     "metadata": {},
     "output_type": "execute_result"
    }
   ],
   "source": [
    "df=pd.read_csv('athlete_events.csv',dtype={'Age':'Int64'},index_col='ID')\n",
    "## pasamos a Int64, ya que al haber NaN se trasforma en float64\n",
    "df.sample(10)"
   ]
  },
  {
   "cell_type": "code",
   "execution_count": 3,
   "id": "2c386956",
   "metadata": {},
   "outputs": [
    {
     "name": "stdout",
     "output_type": "stream",
     "text": [
      "<class 'pandas.core.frame.DataFrame'>\n",
      "Int64Index: 271116 entries, 1 to 135571\n",
      "Data columns (total 14 columns):\n",
      " #   Column  Non-Null Count   Dtype  \n",
      "---  ------  --------------   -----  \n",
      " 0   Name    271116 non-null  object \n",
      " 1   Sex     271116 non-null  object \n",
      " 2   Age     261642 non-null  Int64  \n",
      " 3   Height  210945 non-null  float64\n",
      " 4   Weight  208241 non-null  float64\n",
      " 5   Team    271116 non-null  object \n",
      " 6   NOC     271116 non-null  object \n",
      " 7   Games   271116 non-null  object \n",
      " 8   Year    271116 non-null  int64  \n",
      " 9   Season  271116 non-null  object \n",
      " 10  City    271116 non-null  object \n",
      " 11  Sport   271116 non-null  object \n",
      " 12  Event   271116 non-null  object \n",
      " 13  Medal   39783 non-null   object \n",
      "dtypes: Int64(1), float64(2), int64(1), object(10)\n",
      "memory usage: 31.3+ MB\n"
     ]
    },
    {
     "data": {
      "text/plain": [
       "None"
      ]
     },
     "metadata": {},
     "output_type": "display_data"
    },
    {
     "data": {
      "text/html": [
       "<div>\n",
       "<style scoped>\n",
       "    .dataframe tbody tr th:only-of-type {\n",
       "        vertical-align: middle;\n",
       "    }\n",
       "\n",
       "    .dataframe tbody tr th {\n",
       "        vertical-align: top;\n",
       "    }\n",
       "\n",
       "    .dataframe thead th {\n",
       "        text-align: right;\n",
       "    }\n",
       "</style>\n",
       "<table border=\"1\" class=\"dataframe\">\n",
       "  <thead>\n",
       "    <tr style=\"text-align: right;\">\n",
       "      <th></th>\n",
       "      <th>Age</th>\n",
       "      <th>Height</th>\n",
       "      <th>Weight</th>\n",
       "      <th>Year</th>\n",
       "    </tr>\n",
       "  </thead>\n",
       "  <tbody>\n",
       "    <tr>\n",
       "      <th>count</th>\n",
       "      <td>261642.000000</td>\n",
       "      <td>210945.000000</td>\n",
       "      <td>208241.000000</td>\n",
       "      <td>271116.000000</td>\n",
       "    </tr>\n",
       "    <tr>\n",
       "      <th>mean</th>\n",
       "      <td>25.556898</td>\n",
       "      <td>175.338970</td>\n",
       "      <td>70.702393</td>\n",
       "      <td>1978.378480</td>\n",
       "    </tr>\n",
       "    <tr>\n",
       "      <th>std</th>\n",
       "      <td>6.393561</td>\n",
       "      <td>10.518462</td>\n",
       "      <td>14.348020</td>\n",
       "      <td>29.877632</td>\n",
       "    </tr>\n",
       "    <tr>\n",
       "      <th>min</th>\n",
       "      <td>10.000000</td>\n",
       "      <td>127.000000</td>\n",
       "      <td>25.000000</td>\n",
       "      <td>1896.000000</td>\n",
       "    </tr>\n",
       "    <tr>\n",
       "      <th>25%</th>\n",
       "      <td>21.000000</td>\n",
       "      <td>168.000000</td>\n",
       "      <td>60.000000</td>\n",
       "      <td>1960.000000</td>\n",
       "    </tr>\n",
       "    <tr>\n",
       "      <th>50%</th>\n",
       "      <td>24.000000</td>\n",
       "      <td>175.000000</td>\n",
       "      <td>70.000000</td>\n",
       "      <td>1988.000000</td>\n",
       "    </tr>\n",
       "    <tr>\n",
       "      <th>75%</th>\n",
       "      <td>28.000000</td>\n",
       "      <td>183.000000</td>\n",
       "      <td>79.000000</td>\n",
       "      <td>2002.000000</td>\n",
       "    </tr>\n",
       "    <tr>\n",
       "      <th>max</th>\n",
       "      <td>97.000000</td>\n",
       "      <td>226.000000</td>\n",
       "      <td>214.000000</td>\n",
       "      <td>2016.000000</td>\n",
       "    </tr>\n",
       "  </tbody>\n",
       "</table>\n",
       "</div>"
      ],
      "text/plain": [
       "                 Age         Height         Weight           Year\n",
       "count  261642.000000  210945.000000  208241.000000  271116.000000\n",
       "mean       25.556898     175.338970      70.702393    1978.378480\n",
       "std         6.393561      10.518462      14.348020      29.877632\n",
       "min        10.000000     127.000000      25.000000    1896.000000\n",
       "25%        21.000000     168.000000      60.000000    1960.000000\n",
       "50%        24.000000     175.000000      70.000000    1988.000000\n",
       "75%        28.000000     183.000000      79.000000    2002.000000\n",
       "max        97.000000     226.000000     214.000000    2016.000000"
      ]
     },
     "metadata": {},
     "output_type": "display_data"
    },
    {
     "name": "stdout",
     "output_type": "stream",
     "text": [
      "Tamaño: (271116, 14)\n"
     ]
    }
   ],
   "source": [
    "display(df.info())\n",
    "display(df.describe())\n",
    "print(f'Tamaño: {df.shape}')"
   ]
  },
  {
   "cell_type": "markdown",
   "id": "1fcfc5c9",
   "metadata": {},
   "source": [
    "Estudiaremos el atributo de altura."
   ]
  },
  {
   "cell_type": "code",
   "execution_count": 4,
   "id": "45174453",
   "metadata": {},
   "outputs": [],
   "source": [
    "# Eliminamos los registros en que la altura sea na.\n",
    "df=df.dropna(subset=['Height'])"
   ]
  },
  {
   "cell_type": "markdown",
   "id": "1a47b184",
   "metadata": {},
   "source": [
    "**Comprobamos si 'Height' sigue un distribución normal:**"
   ]
  },
  {
   "cell_type": "code",
   "execution_count": 5,
   "id": "437a7d61",
   "metadata": {
    "scrolled": true
   },
   "outputs": [
    {
     "data": {
      "image/png": "[encoded data removed]",
      "text/plain": [
       "<Figure size 1152x432 with 1 Axes>"
      ]
     },
     "metadata": {
      "needs_background": "light"
     },
     "output_type": "display_data"
    }
   ],
   "source": [
    "# Histograma de la altura de los atletas en la historia de los JJOO\n",
    "plt.figure(figsize=(16, 6))\n",
    "sns.histplot(data=df, x='Height')\n",
    "\n",
    "plt.title('Histograma de la altura de los atletas en los JJOO');\n",
    "plt.xlabel('Height ');"
   ]
  },
  {
   "cell_type": "code",
   "execution_count": 6,
   "id": "289222dc",
   "metadata": {},
   "outputs": [
    {
     "data": {
      "image/png": "[encoded data removed]",
      "text/plain": [
       "<Figure size 432x288 with 1 Axes>"
      ]
     },
     "metadata": {
      "needs_background": "light"
     },
     "output_type": "display_data"
    }
   ],
   "source": [
    "\n",
    "# QQ Plot\n",
    "\n",
    "from statsmodels.graphics.gofplots import qqplot\n",
    "from matplotlib import pyplot\n",
    "Height=df.Height # definimos la variable Height\n",
    "qqplot(Height, line='s')\n",
    "pyplot.show()"
   ]
  },
  {
   "cell_type": "code",
   "execution_count": 7,
   "id": "7abffc55",
   "metadata": {},
   "outputs": [],
   "source": [
    "## Función test de normalidad.\n",
    "\n",
    "def test_normalidad(atributo):\n",
    "    \n",
    "    '''Realizamos tes de normalidad con tres test'''\n",
    "    from scipy.stats import shapiro\n",
    "    from scipy.stats import normaltest\n",
    "    from scipy.stats import anderson\n",
    "    \n",
    "    stat, p = shapiro(atributo)\n",
    "    \n",
    "    print('Shapiro-Wilk: \\n')\n",
    "    print('stat=%.3f, p=%.3f' % (stat, p))\n",
    "\n",
    "\n",
    "    if p > 0.05:\n",
    "        print('Probably Gaussian')\n",
    "    else:\n",
    "        print('Probably not Gaussian')\n",
    "    print('---------- \\n')\n",
    "\n",
    "    # Example of the D'Agostino's K^2 Normality Test\n",
    "\n",
    "\n",
    "    stat, p = normaltest(atributo)\n",
    "    \n",
    "    print('D\\'Agostino K\\^2 Normality: \\n')\n",
    "    print('stat=%.3f, p=%.3f' % (stat, p))\n",
    "    if p > 0.05:\n",
    "        print('Probably Gaussian')\n",
    "    else:\n",
    "        print('Probably not Gaussian')\n",
    "    print('---------- \\n')\n",
    "\n",
    "# Example of the Anderson-Darling Normality Test\n",
    "\n",
    "\n",
    "    result = anderson(atributo)\n",
    "    \n",
    "    print('Anderson-Darling: \\n')\n",
    "    print('stat=%.3f' % (result.statistic))\n",
    "    for i in range(len(result.critical_values)):\n",
    "        sl, cv = result.significance_level[i], result.critical_values[i]\n",
    "        if result.statistic < cv:\n",
    "            print('Probably Gaussian at the %.1f%% level' % (sl))\n",
    "        else:\n",
    "            print('Probably not Gaussian at the %.1f%% level' % (sl))\n",
    "        \n",
    "    print('---------- \\n')\n"
   ]
  },
  {
   "cell_type": "code",
   "execution_count": 8,
   "id": "f28221c0",
   "metadata": {},
   "outputs": [
    {
     "name": "stdout",
     "output_type": "stream",
     "text": [
      "Shapiro-Wilk: \n",
      "\n",
      "stat=0.998, p=0.000\n",
      "Probably not Gaussian\n",
      "---------- \n",
      "\n",
      "D'Agostino K\\^2 Normality: \n",
      "\n",
      "stat=246.893, p=0.000\n",
      "Probably not Gaussian\n",
      "---------- \n",
      "\n",
      "Anderson-Darling: \n",
      "\n",
      "stat=129.972\n",
      "Probably not Gaussian at the 15.0% level\n",
      "Probably not Gaussian at the 10.0% level\n",
      "Probably not Gaussian at the 5.0% level\n",
      "Probably not Gaussian at the 2.5% level\n",
      "Probably not Gaussian at the 1.0% level\n",
      "---------- \n",
      "\n"
     ]
    },
    {
     "name": "stderr",
     "output_type": "stream",
     "text": [
      "D:\\anaconda3\\lib\\site-packages\\scipy\\stats\\morestats.py:1760: UserWarning: p-value may not be accurate for N > 5000.\n",
      "  warnings.warn(\"p-value may not be accurate for N > 5000.\")\n"
     ]
    }
   ],
   "source": [
    "test_normalidad(df.Height)"
   ]
  },
  {
   "cell_type": "markdown",
   "id": "f8e46f51",
   "metadata": {},
   "source": [
    "Los tes nos indican que no sigue una distribución normal. Agruparemos por genero y deporte (Atletismo)"
   ]
  },
  {
   "cell_type": "code",
   "execution_count": 9,
   "id": "ea330880",
   "metadata": {},
   "outputs": [
    {
     "data": {
      "text/plain": [
       "array(['Basketball', 'Judo', 'Speed Skating', 'Cross Country Skiing',\n",
       "       'Athletics', 'Ice Hockey', 'Badminton', 'Sailing', 'Biathlon',\n",
       "       'Gymnastics', 'Alpine Skiing', 'Handball', 'Weightlifting',\n",
       "       'Wrestling', 'Luge', 'Rowing', 'Bobsleigh', 'Swimming', 'Football',\n",
       "       'Equestrianism', 'Shooting', 'Taekwondo', 'Boxing', 'Fencing',\n",
       "       'Diving', 'Canoeing', 'Water Polo', 'Tennis', 'Cycling', 'Hockey',\n",
       "       'Figure Skating', 'Softball', 'Archery', 'Volleyball',\n",
       "       'Synchronized Swimming', 'Modern Pentathlon', 'Table Tennis',\n",
       "       'Nordic Combined', 'Baseball', 'Rhythmic Gymnastics',\n",
       "       'Freestyle Skiing', 'Rugby Sevens', 'Trampolining',\n",
       "       'Beach Volleyball', 'Triathlon', 'Ski Jumping', 'Curling', 'Golf',\n",
       "       'Snowboarding', 'Short Track Speed Skating', 'Skeleton', 'Rugby',\n",
       "       'Art Competitions', 'Tug-Of-War', 'Lacrosse', 'Polo',\n",
       "       'Motorboating', 'Jeu De Paume', 'Racquets'], dtype=object)"
      ]
     },
     "execution_count": 9,
     "metadata": {},
     "output_type": "execute_result"
    }
   ],
   "source": [
    "df.Sport.unique()"
   ]
  },
  {
   "cell_type": "code",
   "execution_count": 10,
   "id": "f9982dec",
   "metadata": {},
   "outputs": [],
   "source": [
    "df_m_At=df[(df['Sex']==\"M\")&(df['Sport']=='Athletics')]"
   ]
  },
  {
   "cell_type": "code",
   "execution_count": 11,
   "id": "28b679af",
   "metadata": {
    "scrolled": true
   },
   "outputs": [
    {
     "name": "stdout",
     "output_type": "stream",
     "text": [
      "Shapiro-Wilk: \n",
      "\n",
      "stat=0.998, p=0.000\n",
      "Probably not Gaussian\n",
      "---------- \n",
      "\n",
      "D'Agostino K\\^2 Normality: \n",
      "\n",
      "stat=0.906, p=0.636\n",
      "Probably Gaussian\n",
      "---------- \n",
      "\n",
      "Anderson-Darling: \n",
      "\n",
      "stat=22.307\n",
      "Probably not Gaussian at the 15.0% level\n",
      "Probably not Gaussian at the 10.0% level\n",
      "Probably not Gaussian at the 5.0% level\n",
      "Probably not Gaussian at the 2.5% level\n",
      "Probably not Gaussian at the 1.0% level\n",
      "---------- \n",
      "\n"
     ]
    }
   ],
   "source": [
    "test_normalidad(df_m_At.Height)"
   ]
  },
  {
   "cell_type": "markdown",
   "id": "c4e5cfcd",
   "metadata": {},
   "source": [
    "El test de Agostino indica que probablemente sigue una distribución normal."
   ]
  },
  {
   "cell_type": "code",
   "execution_count": 12,
   "id": "05609e76",
   "metadata": {},
   "outputs": [
    {
     "data": {
      "image/png": "[encoded data removed]",
      "text/plain": [
       "<Figure size 1152x432 with 1 Axes>"
      ]
     },
     "metadata": {
      "needs_background": "light"
     },
     "output_type": "display_data"
    }
   ],
   "source": [
    "# Histograma de la altura de los atletas en la historia de los JJOO\n",
    "plt.figure(figsize=(16, 6))\n",
    "sns.histplot(data=df_m_At, x='Height',color='purple')\n",
    "\n",
    "plt.title('HOMBRES ATLETISMO');\n",
    "plt.xlabel('Height ');"
   ]
  },
  {
   "cell_type": "markdown",
   "id": "f3916fb5",
   "metadata": {},
   "source": [
    "***\n",
    "**Calcula el p-valor y di  si rechaza la hipoteisi nulla tomando un alfa de 5%:**"
   ]
  },
  {
   "cell_type": "code",
   "execution_count": 13,
   "id": "7dd8401d",
   "metadata": {},
   "outputs": [
    {
     "name": "stdout",
     "output_type": "stream",
     "text": [
      "La media de la altura es 179.768\n"
     ]
    }
   ],
   "source": [
    "print(f'La media de la altura es {df_m_At.Height.mean():.3f}')"
   ]
  },
  {
   "cell_type": "markdown",
   "id": "be4fc660",
   "metadata": {},
   "source": [
    "Hipotesis:\n",
    "- $H_0: \\mu_M = 179$  La altura media de los ateletas de atletismo es 179.\n",
    "- $H_1: \\mu_M \\neq 19$ La altura media de los atletas de altetismos NO es 179"
   ]
  },
  {
   "cell_type": "code",
   "execution_count": 14,
   "id": "ae0f359d",
   "metadata": {},
   "outputs": [
    {
     "name": "stdout",
     "output_type": "stream",
     "text": [
      "t-statistic = 13.956\n",
      "p-value = 0.000\n",
      "We can reject H0\n"
     ]
    }
   ],
   "source": [
    "# Utilizamo 1 sample t-test\n",
    "\n",
    "ALPHA = 0.05\n",
    "\n",
    "stat, p = ttest_1samp(df_m_At.Height, popmean=179)\n",
    "\n",
    "print(f't-statistic = {stat:.3f}\\np-value = {p:.3f}')\n",
    "print('We can not reject H0') if p > ALPHA else print('We can reject H0')"
   ]
  },
  {
   "cell_type": "markdown",
   "id": "cde04c4b",
   "metadata": {},
   "source": [
    "**Conclusión: \n",
    "Podemos rechazar la hipotesis nula.**"
   ]
  },
  {
   "cell_type": "markdown",
   "id": "b1f8a79e",
   "metadata": {},
   "source": [
    "***\n",
    "## Exercici 2\n",
    "Continua amb el conjunt de dades de tema esportiu que t'agradi i selecciona dos atributs del conjunt de dades. Calcula el p-valor i digues si rebutja la hipòtesi nul·la agafant un alfa de 5%."
   ]
  },
  {
   "cell_type": "code",
   "execution_count": 59,
   "id": "0567ca69",
   "metadata": {},
   "outputs": [
    {
     "data": {
      "image/png": "[encoded data removed]",
      "text/plain": [
       "<Figure size 1152x432 with 1 Axes>"
      ]
     },
     "metadata": {
      "needs_background": "light"
     },
     "output_type": "display_data"
    }
   ],
   "source": [
    "# Histograma de la distribució sw peso de los \n",
    "plt.figure(figsize=(16, 6))\n",
    "sns.histplot(data=df, x='Height', hue='Sex', kde=True)\n",
    "\n",
    "plt.title('Altura de los Atletas separado por sexo');\n",
    "plt.xlabel('Height [cm]');"
   ]
  },
  {
   "cell_type": "code",
   "execution_count": null,
   "id": "9625a408",
   "metadata": {},
   "outputs": [],
   "source": []
  },
  {
   "cell_type": "raw",
   "id": "e143d7ac",
   "metadata": {},
   "source": [
    "Hipotesis:\n",
    "- $H_0: \\mu_M = \\mu_F$  La altura media de los atletas (hombres) **es igual** a la de las atletas (mujeress)\n",
    "- $H_1: \\mu_M \\neq \\mu_F$ La altura media de los atletas (hombres) **es diferente** a la de las atletas (mujeres)"
   ]
  },
  {
   "cell_type": "code",
   "execution_count": 16,
   "id": "4cfe3217",
   "metadata": {},
   "outputs": [
    {
     "name": "stdout",
     "output_type": "stream",
     "text": [
      "t-statistic = 263.097\n",
      "p-value = 0.000\n",
      "We can reject H0\n"
     ]
    }
   ],
   "source": [
    "# Utilitzsem la prova 2-tailed Welchs' t-test (equivalent a Student's t-test però\n",
    "# quan no podem assegurar que dues poblacions tinguin mateixa variança)\n",
    "\n",
    "ALPHA = 0.05\n",
    "\n",
    "height_males = df.loc[df.Sex=='M','Height']\n",
    "height_females = df.loc[df.Sex=='F','Height']\n",
    "\n",
    "stat, p = ttest_ind(height_males,height_females, alternative='two-sided', equal_var=False)\n",
    "\n",
    "print(f't-statistic = {stat:.3f}\\np-value = {p:.3f}')\n",
    "print('We can not reject H0') if p > ALPHA else print('We can reject H0')"
   ]
  },
  {
   "cell_type": "markdown",
   "id": "82e642ab",
   "metadata": {},
   "source": [
    "Hipotesis:\n",
    "- $H_0: \\mu_1 = \\mu_2$  La altura media de los atletas en la primera mitad del siglo 20 **es igual** a la altura media de los atletas en la segunda mitad del siglo 20.\n",
    "- $H_1: \\mu_1 <\\mu_2$ La altura media de los atletas en la primera mitad del siglo 20 **es diferente** a la altura media de los atletas en la segunda mitad del siglo 20"
   ]
  },
  {
   "cell_type": "code",
   "execution_count": 30,
   "id": "9ee69be2",
   "metadata": {},
   "outputs": [],
   "source": [
    "df_20=df[(df['Year']>1899)& (df['Year']<2000)].copy()\n"
   ]
  },
  {
   "cell_type": "code",
   "execution_count": 35,
   "id": "cefcd259",
   "metadata": {},
   "outputs": [
    {
     "data": {
      "text/html": [
       "<div>\n",
       "<style scoped>\n",
       "    .dataframe tbody tr th:only-of-type {\n",
       "        vertical-align: middle;\n",
       "    }\n",
       "\n",
       "    .dataframe tbody tr th {\n",
       "        vertical-align: top;\n",
       "    }\n",
       "\n",
       "    .dataframe thead th {\n",
       "        text-align: right;\n",
       "    }\n",
       "</style>\n",
       "<table border=\"1\" class=\"dataframe\">\n",
       "  <thead>\n",
       "    <tr style=\"text-align: right;\">\n",
       "      <th></th>\n",
       "      <th>Name</th>\n",
       "      <th>Sex</th>\n",
       "      <th>Age</th>\n",
       "      <th>Height</th>\n",
       "      <th>Weight</th>\n",
       "      <th>Team</th>\n",
       "      <th>NOC</th>\n",
       "      <th>Games</th>\n",
       "      <th>Year</th>\n",
       "      <th>Season</th>\n",
       "      <th>City</th>\n",
       "      <th>Sport</th>\n",
       "      <th>Event</th>\n",
       "      <th>Medal</th>\n",
       "      <th>Mitad</th>\n",
       "    </tr>\n",
       "    <tr>\n",
       "      <th>ID</th>\n",
       "      <th></th>\n",
       "      <th></th>\n",
       "      <th></th>\n",
       "      <th></th>\n",
       "      <th></th>\n",
       "      <th></th>\n",
       "      <th></th>\n",
       "      <th></th>\n",
       "      <th></th>\n",
       "      <th></th>\n",
       "      <th></th>\n",
       "      <th></th>\n",
       "      <th></th>\n",
       "      <th></th>\n",
       "      <th></th>\n",
       "    </tr>\n",
       "  </thead>\n",
       "  <tbody>\n",
       "    <tr>\n",
       "      <th>1</th>\n",
       "      <td>A Dijiang</td>\n",
       "      <td>M</td>\n",
       "      <td>24</td>\n",
       "      <td>180.0</td>\n",
       "      <td>80.0</td>\n",
       "      <td>China</td>\n",
       "      <td>CHN</td>\n",
       "      <td>1992 Summer</td>\n",
       "      <td>1992</td>\n",
       "      <td>Summer</td>\n",
       "      <td>Barcelona</td>\n",
       "      <td>Basketball</td>\n",
       "      <td>Basketball Men's Basketball</td>\n",
       "      <td>NaN</td>\n",
       "      <td>Segunda</td>\n",
       "    </tr>\n",
       "    <tr>\n",
       "      <th>5</th>\n",
       "      <td>Christine Jacoba Aaftink</td>\n",
       "      <td>F</td>\n",
       "      <td>21</td>\n",
       "      <td>185.0</td>\n",
       "      <td>82.0</td>\n",
       "      <td>Netherlands</td>\n",
       "      <td>NED</td>\n",
       "      <td>1988 Winter</td>\n",
       "      <td>1988</td>\n",
       "      <td>Winter</td>\n",
       "      <td>Calgary</td>\n",
       "      <td>Speed Skating</td>\n",
       "      <td>Speed Skating Women's 500 metres</td>\n",
       "      <td>NaN</td>\n",
       "      <td>Segunda</td>\n",
       "    </tr>\n",
       "    <tr>\n",
       "      <th>5</th>\n",
       "      <td>Christine Jacoba Aaftink</td>\n",
       "      <td>F</td>\n",
       "      <td>21</td>\n",
       "      <td>185.0</td>\n",
       "      <td>82.0</td>\n",
       "      <td>Netherlands</td>\n",
       "      <td>NED</td>\n",
       "      <td>1988 Winter</td>\n",
       "      <td>1988</td>\n",
       "      <td>Winter</td>\n",
       "      <td>Calgary</td>\n",
       "      <td>Speed Skating</td>\n",
       "      <td>Speed Skating Women's 1,000 metres</td>\n",
       "      <td>NaN</td>\n",
       "      <td>Segunda</td>\n",
       "    </tr>\n",
       "    <tr>\n",
       "      <th>5</th>\n",
       "      <td>Christine Jacoba Aaftink</td>\n",
       "      <td>F</td>\n",
       "      <td>25</td>\n",
       "      <td>185.0</td>\n",
       "      <td>82.0</td>\n",
       "      <td>Netherlands</td>\n",
       "      <td>NED</td>\n",
       "      <td>1992 Winter</td>\n",
       "      <td>1992</td>\n",
       "      <td>Winter</td>\n",
       "      <td>Albertville</td>\n",
       "      <td>Speed Skating</td>\n",
       "      <td>Speed Skating Women's 500 metres</td>\n",
       "      <td>NaN</td>\n",
       "      <td>Segunda</td>\n",
       "    </tr>\n",
       "    <tr>\n",
       "      <th>5</th>\n",
       "      <td>Christine Jacoba Aaftink</td>\n",
       "      <td>F</td>\n",
       "      <td>25</td>\n",
       "      <td>185.0</td>\n",
       "      <td>82.0</td>\n",
       "      <td>Netherlands</td>\n",
       "      <td>NED</td>\n",
       "      <td>1992 Winter</td>\n",
       "      <td>1992</td>\n",
       "      <td>Winter</td>\n",
       "      <td>Albertville</td>\n",
       "      <td>Speed Skating</td>\n",
       "      <td>Speed Skating Women's 1,000 metres</td>\n",
       "      <td>NaN</td>\n",
       "      <td>Segunda</td>\n",
       "    </tr>\n",
       "    <tr>\n",
       "      <th>...</th>\n",
       "      <td>...</td>\n",
       "      <td>...</td>\n",
       "      <td>...</td>\n",
       "      <td>...</td>\n",
       "      <td>...</td>\n",
       "      <td>...</td>\n",
       "      <td>...</td>\n",
       "      <td>...</td>\n",
       "      <td>...</td>\n",
       "      <td>...</td>\n",
       "      <td>...</td>\n",
       "      <td>...</td>\n",
       "      <td>...</td>\n",
       "      <td>...</td>\n",
       "      <td>...</td>\n",
       "    </tr>\n",
       "    <tr>\n",
       "      <th>135559</th>\n",
       "      <td>Pawe Jan Zygmunt</td>\n",
       "      <td>M</td>\n",
       "      <td>25</td>\n",
       "      <td>182.0</td>\n",
       "      <td>79.0</td>\n",
       "      <td>Poland</td>\n",
       "      <td>POL</td>\n",
       "      <td>1998 Winter</td>\n",
       "      <td>1998</td>\n",
       "      <td>Winter</td>\n",
       "      <td>Nagano</td>\n",
       "      <td>Speed Skating</td>\n",
       "      <td>Speed Skating Men's 5,000 metres</td>\n",
       "      <td>NaN</td>\n",
       "      <td>Segunda</td>\n",
       "    </tr>\n",
       "    <tr>\n",
       "      <th>135562</th>\n",
       "      <td>Milan Zyka</td>\n",
       "      <td>M</td>\n",
       "      <td>24</td>\n",
       "      <td>173.0</td>\n",
       "      <td>68.0</td>\n",
       "      <td>Czechoslovakia</td>\n",
       "      <td>TCH</td>\n",
       "      <td>1972 Summer</td>\n",
       "      <td>1972</td>\n",
       "      <td>Summer</td>\n",
       "      <td>Munich</td>\n",
       "      <td>Cycling</td>\n",
       "      <td>Cycling Men's Team Pursuit, 4,000 metres</td>\n",
       "      <td>NaN</td>\n",
       "      <td>Segunda</td>\n",
       "    </tr>\n",
       "    <tr>\n",
       "      <th>135566</th>\n",
       "      <td>James Francis \"Jim\" Zylker</td>\n",
       "      <td>M</td>\n",
       "      <td>21</td>\n",
       "      <td>175.0</td>\n",
       "      <td>75.0</td>\n",
       "      <td>United States</td>\n",
       "      <td>USA</td>\n",
       "      <td>1972 Summer</td>\n",
       "      <td>1972</td>\n",
       "      <td>Summer</td>\n",
       "      <td>Munich</td>\n",
       "      <td>Football</td>\n",
       "      <td>Football Men's Football</td>\n",
       "      <td>NaN</td>\n",
       "      <td>Segunda</td>\n",
       "    </tr>\n",
       "    <tr>\n",
       "      <th>135569</th>\n",
       "      <td>Andrzej ya</td>\n",
       "      <td>M</td>\n",
       "      <td>29</td>\n",
       "      <td>179.0</td>\n",
       "      <td>89.0</td>\n",
       "      <td>Poland-1</td>\n",
       "      <td>POL</td>\n",
       "      <td>1976 Winter</td>\n",
       "      <td>1976</td>\n",
       "      <td>Winter</td>\n",
       "      <td>Innsbruck</td>\n",
       "      <td>Luge</td>\n",
       "      <td>Luge Mixed (Men)'s Doubles</td>\n",
       "      <td>NaN</td>\n",
       "      <td>Segunda</td>\n",
       "    </tr>\n",
       "    <tr>\n",
       "      <th>135571</th>\n",
       "      <td>Tomasz Ireneusz ya</td>\n",
       "      <td>M</td>\n",
       "      <td>30</td>\n",
       "      <td>185.0</td>\n",
       "      <td>96.0</td>\n",
       "      <td>Poland</td>\n",
       "      <td>POL</td>\n",
       "      <td>1998 Winter</td>\n",
       "      <td>1998</td>\n",
       "      <td>Winter</td>\n",
       "      <td>Nagano</td>\n",
       "      <td>Bobsleigh</td>\n",
       "      <td>Bobsleigh Men's Four</td>\n",
       "      <td>NaN</td>\n",
       "      <td>Segunda</td>\n",
       "    </tr>\n",
       "  </tbody>\n",
       "</table>\n",
       "<p>126352 rows × 15 columns</p>\n",
       "</div>"
      ],
      "text/plain": [
       "                              Name Sex  Age  Height  Weight            Team  \\\n",
       "ID                                                                            \n",
       "1                        A Dijiang   M   24   180.0    80.0           China   \n",
       "5         Christine Jacoba Aaftink   F   21   185.0    82.0     Netherlands   \n",
       "5         Christine Jacoba Aaftink   F   21   185.0    82.0     Netherlands   \n",
       "5         Christine Jacoba Aaftink   F   25   185.0    82.0     Netherlands   \n",
       "5         Christine Jacoba Aaftink   F   25   185.0    82.0     Netherlands   \n",
       "...                            ...  ..  ...     ...     ...             ...   \n",
       "135559            Pawe Jan Zygmunt   M   25   182.0    79.0          Poland   \n",
       "135562                  Milan Zyka   M   24   173.0    68.0  Czechoslovakia   \n",
       "135566  James Francis \"Jim\" Zylker   M   21   175.0    75.0   United States   \n",
       "135569                  Andrzej ya   M   29   179.0    89.0        Poland-1   \n",
       "135571          Tomasz Ireneusz ya   M   30   185.0    96.0          Poland   \n",
       "\n",
       "        NOC        Games  Year  Season         City          Sport  \\\n",
       "ID                                                                   \n",
       "1       CHN  1992 Summer  1992  Summer    Barcelona     Basketball   \n",
       "5       NED  1988 Winter  1988  Winter      Calgary  Speed Skating   \n",
       "5       NED  1988 Winter  1988  Winter      Calgary  Speed Skating   \n",
       "5       NED  1992 Winter  1992  Winter  Albertville  Speed Skating   \n",
       "5       NED  1992 Winter  1992  Winter  Albertville  Speed Skating   \n",
       "...     ...          ...   ...     ...          ...            ...   \n",
       "135559  POL  1998 Winter  1998  Winter       Nagano  Speed Skating   \n",
       "135562  TCH  1972 Summer  1972  Summer       Munich        Cycling   \n",
       "135566  USA  1972 Summer  1972  Summer       Munich       Football   \n",
       "135569  POL  1976 Winter  1976  Winter    Innsbruck           Luge   \n",
       "135571  POL  1998 Winter  1998  Winter       Nagano      Bobsleigh   \n",
       "\n",
       "                                           Event Medal    Mitad  \n",
       "ID                                                               \n",
       "1                    Basketball Men's Basketball   NaN  Segunda  \n",
       "5               Speed Skating Women's 500 metres   NaN  Segunda  \n",
       "5             Speed Skating Women's 1,000 metres   NaN  Segunda  \n",
       "5               Speed Skating Women's 500 metres   NaN  Segunda  \n",
       "5             Speed Skating Women's 1,000 metres   NaN  Segunda  \n",
       "...                                          ...   ...      ...  \n",
       "135559          Speed Skating Men's 5,000 metres   NaN  Segunda  \n",
       "135562  Cycling Men's Team Pursuit, 4,000 metres   NaN  Segunda  \n",
       "135566                   Football Men's Football   NaN  Segunda  \n",
       "135569                Luge Mixed (Men)'s Doubles   NaN  Segunda  \n",
       "135571                      Bobsleigh Men's Four   NaN  Segunda  \n",
       "\n",
       "[126352 rows x 15 columns]"
      ]
     },
     "execution_count": 35,
     "metadata": {},
     "output_type": "execute_result"
    }
   ],
   "source": [
    "df_20['Mitad'] = ['Primera' if x <1950 else 'Segunda' for x in df_20['Year']]\n",
    "df_20"
   ]
  },
  {
   "cell_type": "code",
   "execution_count": 58,
   "id": "9a308a91",
   "metadata": {},
   "outputs": [
    {
     "data": {
      "image/png": "[encoded data removed]",
      "text/plain": [
       "<Figure size 1152x432 with 1 Axes>"
      ]
     },
     "metadata": {
      "needs_background": "light"
     },
     "output_type": "display_data"
    }
   ],
   "source": [
    "# Histograma de la distribució sw peso de los \n",
    "plt.figure(figsize=(16, 6))\n",
    "sns.histplot(data=df_20, x='Height', hue='Mitad', kde=True)\n",
    "\n",
    "plt.title('Altura de los Atletas separado por sexo');\n",
    "plt.xlabel('Height [cm]');"
   ]
  },
  {
   "cell_type": "markdown",
   "id": "fb8d2c1e",
   "metadata": {},
   "source": [
    "Hipotesis:\n",
    "- $H_0: \\mu_1 = \\mu_2$  La altura media de los atletas en la primera mitad del siglo 20 **es igual** a la altura media de los atletas en la segunda mitad del siglo 20.\n",
    "- $H_1: \\mu_1 <\\mu_2$ La altura media de los atletas en la primera mitad del siglo 20 **es diferente** a la altura media de los atletas en la segunda mitad del siglo 20"
   ]
  },
  {
   "cell_type": "code",
   "execution_count": 44,
   "id": "35a2d64b",
   "metadata": {},
   "outputs": [
    {
     "name": "stdout",
     "output_type": "stream",
     "text": [
      "t-statistic = 8.396\n",
      "p-value = 0.000\n",
      "We can reject H0\n"
     ]
    }
   ],
   "source": [
    "# Utilitzsem la prova ' t-test (equivalent a Student's t-test però\n",
    "# quan no podem assegurar que dues poblacions tinguin mateixa variança)\n",
    "#1 tailed\n",
    "\n",
    "ALPHA = 0.05\n",
    "\n",
    "height_primera = df_20.loc[df_20.Mitad=='Primera','Height']\n",
    "height_segunda = df_20.loc[df_20.Mitad=='Segunda','Height']\n",
    "\n",
    "stat, p = ttest_ind(height_primera,height_segunda, alternative='greater', equal_var=False)## utlizamos greater.\n",
    "\n",
    "print(f't-statistic = {stat:.3f}\\np-value = {p:.3f}')\n",
    "print('We can not reject H0') if p > ALPHA else print('We can reject H0')"
   ]
  },
  {
   "cell_type": "code",
   "execution_count": 51,
   "id": "7d171000",
   "metadata": {},
   "outputs": [
    {
     "data": {
      "text/plain": [
       "175.76090188305253"
      ]
     },
     "execution_count": 51,
     "metadata": {},
     "output_type": "execute_result"
    }
   ],
   "source": [
    "df_20[df_20['Mitad']=='Primera']['Height'].mean()"
   ]
  },
  {
   "cell_type": "code",
   "execution_count": 52,
   "id": "86dbd7ef",
   "metadata": {},
   "outputs": [
    {
     "data": {
      "text/plain": [
       "174.959824146094"
      ]
     },
     "execution_count": 52,
     "metadata": {},
     "output_type": "execute_result"
    }
   ],
   "source": [
    "df_20[df_20['Mitad']=='Segunda']['Height'].mean()"
   ]
  },
  {
   "cell_type": "markdown",
   "id": "fa6587c2",
   "metadata": {},
   "source": [
    "***"
   ]
  },
  {
   "cell_type": "markdown",
   "id": "d08ed0c0",
   "metadata": {},
   "source": [
    "## Exercici 3\n",
    "Continua amb el conjunt de dades de tema esportiu que t'agradi i selecciona tres atributs del conjunt de dades. Calcula el p-valor i digues si rebutja la hipòtesi nul·la agafant un alfa de "
   ]
  },
  {
   "cell_type": "code",
   "execution_count": 56,
   "id": "d97406e5",
   "metadata": {},
   "outputs": [
    {
     "data": {
      "text/plain": [
       "Athletics                    32907\n",
       "Swimming                     19150\n",
       "Gymnastics                   18662\n",
       "Cycling                       7976\n",
       "Rowing                        7920\n",
       "Cross Country Skiing          7669\n",
       "Shooting                      7669\n",
       "Fencing                       6962\n",
       "Alpine Skiing                 6394\n",
       "Canoeing                      5560\n",
       "Wrestling                     5346\n",
       "Sailing                       4939\n",
       "Football                      4647\n",
       "Biathlon                      4631\n",
       "Ice Hockey                    4611\n",
       "Equestrianism                 4602\n",
       "Boxing                        4578\n",
       "Speed Skating                 4523\n",
       "Hockey                        4315\n",
       "Basketball                    3881\n",
       "Judo                          3400\n",
       "Handball                      3349\n",
       "Volleyball                    3283\n",
       "Weightlifting                 3008\n",
       "Water Polo                    2788\n",
       "Bobsleigh                     2272\n",
       "Diving                        2078\n",
       "Tennis                        2042\n",
       "Ski Jumping                   2031\n",
       "Archery                       1945\n",
       "Table Tennis                  1789\n",
       "Figure Skating                1667\n",
       "Short Track Speed Skating     1488\n",
       "Badminton                     1387\n",
       "Luge                          1382\n",
       "Modern Pentathlon             1293\n",
       "Nordic Combined               1120\n",
       "Snowboarding                   935\n",
       "Freestyle Skiing               926\n",
       "Synchronized Swimming          864\n",
       "Baseball                       846\n",
       "Rhythmic Gymnastics            632\n",
       "Taekwondo                      598\n",
       "Beach Volleyball               545\n",
       "Triathlon                      528\n",
       "Softball                       448\n",
       "Curling                        448\n",
       "Rugby Sevens                   297\n",
       "Skeleton                       175\n",
       "Trampolining                   151\n",
       "Golf                           131\n",
       "Rugby                           62\n",
       "Art Competitions                59\n",
       "Tug-Of-War                      25\n",
       "Polo                             4\n",
       "Jeu De Paume                     2\n",
       "Lacrosse                         2\n",
       "Racquets                         2\n",
       "Motorboating                     1\n",
       "Name: Sport, dtype: int64"
      ]
     },
     "execution_count": 56,
     "metadata": {},
     "output_type": "execute_result"
    }
   ],
   "source": [
    "df.Sport.value_counts()"
   ]
  },
  {
   "cell_type": "code",
   "execution_count": 64,
   "id": "73182b1e",
   "metadata": {},
   "outputs": [
    {
     "data": {
      "image/png": "[encoded data removed]",
      "text/plain": [
       "<Figure size 1152x432 with 1 Axes>"
      ]
     },
     "metadata": {
      "needs_background": "light"
     },
     "output_type": "display_data"
    }
   ],
   "source": [
    "plt.figure(figsize=(16, 6))\n",
    "sns.histplot(data=df[df.Sport.str.match('Athletics|Swimming|Gymnastics')], x='Height', hue='Sport', kde=True)\n",
    "\n",
    "plt.title('Histograma de las alturas de los ateletas de los deportes, Athletics, Swiimming, Gymnastics');"
   ]
  },
  {
   "cell_type": "markdown",
   "id": "042a4145",
   "metadata": {},
   "source": [
    "Hipotesis:\n",
    "- $H_0: \\mu_B = \\mu_V = \\mu_W$  Las alturas de los deportistas de At **son iguales**\n",
    "- $H_1$: Las tres medianas **no son iguales**"
   ]
  },
  {
   "cell_type": "code",
   "execution_count": 65,
   "id": "1c1324cb",
   "metadata": {},
   "outputs": [
    {
     "name": "stdout",
     "output_type": "stream",
     "text": [
      "F-statistic = 4295.366\n",
      "p-value = 0.000\n",
      "We can reject H0\n"
     ]
    }
   ],
   "source": [
    "# Utilizamos el test ANOVA para tres grupos\n",
    "\n",
    "ALPHA = 0.05\n",
    "\n",
    "height_basketball = df.loc[df.Sport=='Basketball','Height'].dropna()\n",
    "height_volleyball = df.loc[df.Sport=='Volleyball','Height'].dropna()\n",
    "height_weightlifting = df.loc[df.Sport=='Weightlifting','Height'].dropna()\n",
    "\n",
    "stat, p = f_oneway(height_basketball,  height_volleyball, height_weightlifting)\n",
    "\n",
    "print(f'F-statistic = {stat:.3f}\\np-value = {p:.3f}')\n",
    "print('We can not reject H0') if p > ALPHA else print('We can reject H0')"
   ]
  },
  {
   "cell_type": "markdown",
   "id": "0575c083",
   "metadata": {},
   "source": [
    "Conclusión 1:\n",
    "\n",
    "Rechazamos la hipótesis nula. Podemos afirmar con un nivel de signifiancia del 5%, que la altura media de los ateletas que compiten en Atletismo, Natación y Gimnasia  **no es la misma**.\n",
    "\n",
    "El Test ANOVA nos dice que podemos afirmar que las medias no son iguales. Pero no nos permite decir si son iguales dos a dos. Para ello hemos de aplicar el test de TUKEY\n",
    "\n"
   ]
  },
  {
   "cell_type": "code",
   "execution_count": 68,
   "id": "df343eb5",
   "metadata": {},
   "outputs": [
    {
     "name": "stdout",
     "output_type": "stream",
     "text": [
      "     Multiple Comparison of Means - Tukey HSD, FWER=0.05     \n",
      "=============================================================\n",
      "  group1     group2   meandiff p-adj  lower    upper   reject\n",
      "-------------------------------------------------------------\n",
      " Athletics Gymnastics -13.3202 0.001 -13.5183 -13.1222   True\n",
      " Athletics   Swimming   2.3062 0.001   2.1098   2.5026   True\n",
      "Gymnastics   Swimming  15.6264 0.001  15.4041  15.8487   True\n",
      "-------------------------------------------------------------\n"
     ]
    }
   ],
   "source": [
    "# Comparació de multiples grups per parells (Tukey HSD)\n",
    "\n",
    "ALPHA = 0.05\n",
    "\n",
    "foo = df.loc[df.Sport.str.match('Athletics|Swimming|Gymnastics'), ['Height','Sport']].dropna()\n",
    "\n",
    "m_comp = pairwise_tukeyhsd(endog=foo['Height'], groups=foo['Sport'], alpha=ALPHA)\n",
    "\n",
    "print(m_comp)"
   ]
  },
  {
   "cell_type": "markdown",
   "id": "83cf790f",
   "metadata": {},
   "source": [
    "Conclusión 2:\n",
    "Podemos afirmar con un nivel de significancia del 5% que ninguna de las medias de altura de los deportes de Atletismo, Natación y Gimnasia es la misma."
   ]
  },
  {
   "cell_type": "markdown",
   "id": "bad820f1",
   "metadata": {},
   "source": [
    "***"
   ]
  }
 ],
 "metadata": {
  "kernelspec": {
   "display_name": "Python 3",
   "language": "python",
   "name": "python3"
  },
  "language_info": {
   "codemirror_mode": {
    "name": "ipython",
    "version": 3
   },
   "file_extension": ".py",
   "mimetype": "text/x-python",
   "name": "python",
   "nbconvert_exporter": "python",
   "pygments_lexer": "ipython3",
   "version": "3.8.8"
  }
 },
 "nbformat": 4,
 "nbformat_minor": 5
}
